{
 "cells": [
  {
   "cell_type": "code",
   "execution_count": 1,
   "metadata": {},
   "outputs": [],
   "source": [
    "from entities.entities import *"
   ]
  },
  {
   "cell_type": "code",
   "execution_count": 2,
   "metadata": {},
   "outputs": [],
   "source": [
    "VIN = \"WBAVS13538FV95140\""
   ]
  },
  {
   "cell_type": "code",
   "execution_count": 3,
   "metadata": {},
   "outputs": [
    {
     "data": {
      "text/plain": [
       "Vehicle(id='VEHICLE~WBAVS13538FV95140', VIN='WBAVS13538FV95140', make='BMW', model='328i', year=2008, color='NOT_SET', odometer_records=[], service_records=[], fuel_records=[], documentation=[])"
      ]
     },
     "execution_count": 3,
     "metadata": {},
     "output_type": "execute_result"
    }
   ],
   "source": [
    "bmw = Vehicle(\n",
    "    VIN = VIN,\n",
    "    make = \"BMW\",\n",
    "    model = \"328i\",\n",
    "    year = 2008,\n",
    ")\n",
    "\n",
    "bmw"
   ]
  },
  {
   "cell_type": "code",
   "execution_count": 4,
   "metadata": {},
   "outputs": [
    {
     "data": {
      "text/plain": [
       "OdometerReading(id='ODOMETER~8ff5d1e4dfea9cfda6a6df378da478b2', VIN='WBAVS13538FV95140', date=DateTime(2024, 12, 23, 0, 0, 0, tzinfo=Timezone('America/Los_Angeles')), reading=10000.0, location=None)"
      ]
     },
     "execution_count": 4,
     "metadata": {},
     "output_type": "execute_result"
    }
   ],
   "source": [
    "odometer_reading = OdometerReading(\n",
    "    VIN=VIN,\n",
    "    reading=10000,\n",
    ")\n",
    "\n",
    "odometer_reading\n"
   ]
  },
  {
   "cell_type": "code",
   "execution_count": 5,
   "metadata": {},
   "outputs": [],
   "source": [
    "bmw.add_odometer_record(odometer_reading)"
   ]
  },
  {
   "cell_type": "code",
   "execution_count": 6,
   "metadata": {},
   "outputs": [
    {
     "data": {
      "text/plain": [
       "10000.0"
      ]
     },
     "execution_count": 6,
     "metadata": {},
     "output_type": "execute_result"
    }
   ],
   "source": [
    "bmw.current_mileage()"
   ]
  },
  {
   "cell_type": "code",
   "execution_count": 7,
   "metadata": {},
   "outputs": [],
   "source": [
    "Costco = Vendor(\n",
    "    name = \"Costco\",\n",
    "    location = Location(\n",
    "        address = \"123 Main St, Anytown, USA\",\n",
    "        city = \"Anytown\",\n",
    "        state = \"CA\",\n",
    "        zip_code = \"12345\",\n",
    "    )\n",
    ")"
   ]
  },
  {
   "cell_type": "code",
   "execution_count": 8,
   "metadata": {},
   "outputs": [
    {
     "data": {
      "text/plain": [
       "10000.0"
      ]
     },
     "execution_count": 8,
     "metadata": {},
     "output_type": "execute_result"
    }
   ],
   "source": [
    "fuel_record = Fuel(\n",
    "    VIN=VIN,\n",
    "    reading=10000,\n",
    "    vendor = Costco,\n",
    "    fuel_type = FuelType.PREMIUM,\n",
    "    units = 8.45,\n",
    "    price_per_unit = 4.54,\n",
    ")\n",
    "\n",
    "bmw.add_fuel_record(fuel_record)\n",
    "bmw.current_mileage()\n"
   ]
  },
  {
   "cell_type": "code",
   "execution_count": 9,
   "metadata": {},
   "outputs": [
    {
     "name": "stdout",
     "output_type": "stream",
     "text": [
      "id='FUEL~8ff5d1e4dfea9cfda6a6df378da478b2' VIN='WBAVS13538FV95140' date=DateTime(2024, 12, 23, 0, 0, 0, tzinfo=Timezone('America/Los_Angeles')) vendor=Vendor(id='VENDOR~72925b4ad47554c982f23960109b6aea', name='Costco', website=None, email=None, phone_number=None, location=Location(address='123 Main St, Anytown, USA', city='Anytown', state='CA', zip_code='12345', latitude=None, longitude=None)) fuel_type='Premium' units=8.45 price_per_unit=4.54 total_cost=38.363\n"
     ]
    }
   ],
   "source": [
    "print(bmw.fuel_records[0])"
   ]
  },
  {
   "cell_type": "code",
   "execution_count": 10,
   "metadata": {},
   "outputs": [],
   "source": [
    "service_record = Service(\n",
    "    VIN=VIN,\n",
    "    vendor = Costco,\n",
    "    items = [ServiceItem(service_type=ServiceType.MAINTENANCE, description=\"New tires\", cost = 1340.43)],\n",
    ")"
   ]
  },
  {
   "cell_type": "code",
   "execution_count": 11,
   "metadata": {},
   "outputs": [
    {
     "data": {
      "text/plain": [
       "[Service(id='SERVICE~3e1e6493b57d6dc3972f2bdf500bc29c', VIN='WBAVS13538FV95140', date=DateTime(2024, 12, 23, 0, 0, 0, tzinfo=Timezone('America/Los_Angeles')), vendor=Vendor(id='VENDOR~72925b4ad47554c982f23960109b6aea', name='Costco', website=None, email=None, phone_number=None, location=Location(address='123 Main St, Anytown, USA', city='Anytown', state='CA', zip_code='12345', latitude=None, longitude=None)), total_cost=1340.43, items=[ServiceItem(id='SERVICE_ITEM~ca93b0909f55b32ba692f6ce844220f1', service_type=<ServiceType.MAINTENANCE: 'MAINTENANCE'>, description='New tires', cost=1340.43, documentation=[])])]"
      ]
     },
     "execution_count": 11,
     "metadata": {},
     "output_type": "execute_result"
    }
   ],
   "source": [
    "bmw.add_service_record(service_record)\n",
    "bmw.service_records\n"
   ]
  },
  {
   "cell_type": "code",
   "execution_count": null,
   "metadata": {},
   "outputs": [],
   "source": []
  }
 ],
 "metadata": {
  "kernelspec": {
   "display_name": "Python 3",
   "language": "python",
   "name": "python3"
  },
  "language_info": {
   "codemirror_mode": {
    "name": "ipython",
    "version": 3
   },
   "file_extension": ".py",
   "mimetype": "text/x-python",
   "name": "python",
   "nbconvert_exporter": "python",
   "pygments_lexer": "ipython3",
   "version": "3.11.11"
  }
 },
 "nbformat": 4,
 "nbformat_minor": 2
}
