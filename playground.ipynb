{
 "cells": [
  {
   "cell_type": "code",
   "execution_count": 1,
   "metadata": {},
   "outputs": [],
   "source": [
    "import os\n",
    "\n",
    "from dotenv import load_dotenv\n",
    "\n",
    "from entities import *\n",
    "from entities.enums import *\n",
    "\n",
    "from database.utils import init_db_handler"
   ]
  },
  {
   "cell_type": "code",
   "execution_count": 2,
   "metadata": {},
   "outputs": [],
   "source": [
    "load_dotenv()\n",
    "\n",
    "await init_db_handler(\n",
    "    os.getenv(\"MONGODB_CONNECTION_STRING\"),\n",
    "    os.getenv(\"MONGODB_DATABASE_NAME\"),\n",
    "    [User, Vehicle, Vendor],\n",
    ")\n"
   ]
  },
  {
   "cell_type": "markdown",
   "metadata": {},
   "source": [
    "# Testing basic Vehicle & User Functionality"
   ]
  },
  {
   "cell_type": "code",
   "execution_count": 3,
   "metadata": {},
   "outputs": [],
   "source": [
    "VIN = \"WBAVS13538FV95140\""
   ]
  },
  {
   "cell_type": "code",
   "execution_count": 4,
   "metadata": {},
   "outputs": [
    {
     "data": {
      "text/plain": [
       "User(id='USER~553d1c9a359d3360c08d61dbbb06cd29', revision_id=None, email='rishi@carhelper.com', bio='', display_name='gregothan', first_name='Rishi', last_name='Mohan', phone_number='1234567890', vehicle_ids=[], expenses=[], join_date=DateTime(2024, 12, 24, 0, 0, 0, tzinfo=Timezone('America/Los_Angeles')), last_login=DateTime(2024, 12, 24, 11, 51, 51, 842893, tzinfo=Timezone('America/Los_Angeles')))"
      ]
     },
     "execution_count": 4,
     "metadata": {},
     "output_type": "execute_result"
    }
   ],
   "source": [
    "rishi = User(\n",
    "    email = \"rishi@carhelper.com\",\n",
    "    display_name = \"gregothan\",\n",
    "    first_name = \"Rishi\",\n",
    "    last_name = \"Mohan\",\n",
    "    phone_number = \"1234567890\",\n",
    ")\n",
    "rishi"
   ]
  },
  {
   "cell_type": "code",
   "execution_count": 5,
   "metadata": {},
   "outputs": [
    {
     "data": {
      "text/plain": [
       "Vehicle(id='VEHICLE~WBAVS13538FV95140', revision_id=None, VIN='WBAVS13538FV95140', make='BMW', model='328i', year=2008, color='NOT_SET', owner_id=None, purchase_date=None, purchase_price=None, odometer_records=[], service_records=[], fuel_records=[], expenses=[], documentation=[])"
      ]
     },
     "execution_count": 5,
     "metadata": {},
     "output_type": "execute_result"
    }
   ],
   "source": [
    "bmw = Vehicle(\n",
    "    VIN = VIN,\n",
    "    make = \"BMW\",\n",
    "    model = \"328i\",\n",
    "    year = 2008,\n",
    ")\n",
    "\n",
    "bmw"
   ]
  },
  {
   "cell_type": "code",
   "execution_count": 6,
   "metadata": {},
   "outputs": [
    {
     "data": {
      "text/plain": [
       "OdometerReading(id='ODOMETER~8ff5d1e4dfea9cfda6a6df378da478b2', revision_id=None, VIN='WBAVS13538FV95140', date=DateTime(2024, 12, 24, 0, 0, 0, tzinfo=Timezone('America/Los_Angeles')), reading=10000.0, location=None)"
      ]
     },
     "execution_count": 6,
     "metadata": {},
     "output_type": "execute_result"
    }
   ],
   "source": [
    "odometer_reading = OdometerReading(\n",
    "    VIN=VIN,\n",
    "    reading=10000,\n",
    ")\n",
    "\n",
    "odometer_reading\n"
   ]
  },
  {
   "cell_type": "code",
   "execution_count": 7,
   "metadata": {},
   "outputs": [],
   "source": [
    "bmw.add_odometer_record(odometer_reading)"
   ]
  },
  {
   "cell_type": "code",
   "execution_count": 8,
   "metadata": {},
   "outputs": [
    {
     "data": {
      "text/plain": [
       "10000.0"
      ]
     },
     "execution_count": 8,
     "metadata": {},
     "output_type": "execute_result"
    }
   ],
   "source": [
    "bmw.current_mileage()"
   ]
  },
  {
   "cell_type": "code",
   "execution_count": 9,
   "metadata": {},
   "outputs": [],
   "source": [
    "Costco = Vendor(\n",
    "    name = \"Costco\",\n",
    "    location = Location(\n",
    "        address = \"123 Main St, Anytown, USA\",\n",
    "        city = \"Anytown\",\n",
    "        state = \"CA\",\n",
    "        zip_code = \"12345\",\n",
    "    )\n",
    ")"
   ]
  },
  {
   "cell_type": "code",
   "execution_count": 10,
   "metadata": {},
   "outputs": [
    {
     "data": {
      "text/plain": [
       "10000.0"
      ]
     },
     "execution_count": 10,
     "metadata": {},
     "output_type": "execute_result"
    }
   ],
   "source": [
    "fuel_record = Fuel(\n",
    "    VIN=VIN,\n",
    "    reading=10000,\n",
    "    vendor_id = Costco.id,\n",
    "    fuel_type = FuelType.PREMIUM,\n",
    "    units = 8.45,\n",
    "    price_per_unit = 4.54,\n",
    ")\n",
    "\n",
    "bmw.add_fuel_record(fuel_record)\n",
    "bmw.current_mileage()\n"
   ]
  },
  {
   "cell_type": "code",
   "execution_count": 11,
   "metadata": {},
   "outputs": [
    {
     "name": "stdout",
     "output_type": "stream",
     "text": [
      "id='FUEL~8ff5d1e4dfea9cfda6a6df378da478b2' revision_id=None VIN='WBAVS13538FV95140' date=DateTime(2024, 12, 24, 0, 0, 0, tzinfo=Timezone('America/Los_Angeles')) vendor_id='VENDOR~72925b4ad47554c982f23960109b6aea' fuel_type=<FuelType.PREMIUM: 'Premium'> units=8.45 price_per_unit=4.54 cost=38.363\n"
     ]
    }
   ],
   "source": [
    "print(bmw.fuel_records[0])"
   ]
  },
  {
   "cell_type": "code",
   "execution_count": 12,
   "metadata": {},
   "outputs": [],
   "source": [
    "service_record = Service(\n",
    "    VIN=VIN,\n",
    "    vendor_id = Costco.id,\n",
    "    items = [ServiceItem(service_type=ServiceType.MAINTENANCE, description=\"New tires\", cost = 1340.43)],\n",
    ")"
   ]
  },
  {
   "cell_type": "code",
   "execution_count": 13,
   "metadata": {},
   "outputs": [
    {
     "data": {
      "text/plain": [
       "[Service(id='SERVICE~8ff5d1e4dfea9cfda6a6df378da478b2', revision_id=None, VIN='WBAVS13538FV95140', date=DateTime(2024, 12, 24, 0, 0, 0, tzinfo=Timezone('America/Los_Angeles')), vendor_id='VENDOR~72925b4ad47554c982f23960109b6aea', cost=1340.43, items=[ServiceItem(id='SERVICE_ITEM~ca93b0909f55b32ba692f6ce844220f1', revision_id=None, service_type=<ServiceType.MAINTENANCE: 'MAINTENANCE'>, description='New tires', cost=1340.43, documentation=[])])]"
      ]
     },
     "execution_count": 13,
     "metadata": {},
     "output_type": "execute_result"
    }
   ],
   "source": [
    "bmw.add_service_record(service_record)\n",
    "bmw.service_records\n"
   ]
  },
  {
   "cell_type": "code",
   "execution_count": 14,
   "metadata": {},
   "outputs": [
    {
     "name": "stdout",
     "output_type": "stream",
     "text": [
      "id='VEHICLE~WBAVS13538FV95140' revision_id=None VIN='WBAVS13538FV95140' make='BMW' model='328i' year=2008 color='NOT_SET' owner_id=None purchase_date=None purchase_price=None odometer_records=[OdometerReading(id='ODOMETER~8ff5d1e4dfea9cfda6a6df378da478b2', revision_id=None, VIN='WBAVS13538FV95140', date=DateTime(2024, 12, 24, 0, 0, 0, tzinfo=Timezone('America/Los_Angeles')), reading=10000.0, location=None)] service_records=[Service(id='SERVICE~8ff5d1e4dfea9cfda6a6df378da478b2', revision_id=None, VIN='WBAVS13538FV95140', date=DateTime(2024, 12, 24, 0, 0, 0, tzinfo=Timezone('America/Los_Angeles')), vendor_id='VENDOR~72925b4ad47554c982f23960109b6aea', cost=1340.43, items=[ServiceItem(id='SERVICE_ITEM~ca93b0909f55b32ba692f6ce844220f1', revision_id=None, service_type=<ServiceType.MAINTENANCE: 'MAINTENANCE'>, description='New tires', cost=1340.43, documentation=[])])] fuel_records=[Fuel(id='FUEL~8ff5d1e4dfea9cfda6a6df378da478b2', revision_id=None, VIN='WBAVS13538FV95140', date=DateTime(2024, 12, 24, 0, 0, 0, tzinfo=Timezone('America/Los_Angeles')), vendor_id='VENDOR~72925b4ad47554c982f23960109b6aea', fuel_type=<FuelType.PREMIUM: 'Premium'>, units=8.45, price_per_unit=4.54, cost=38.363)] expenses=[] documentation=[]\n"
     ]
    }
   ],
   "source": [
    "print(bmw)"
   ]
  },
  {
   "cell_type": "code",
   "execution_count": 15,
   "metadata": {},
   "outputs": [
    {
     "data": {
      "text/plain": [
       "[]"
      ]
     },
     "execution_count": 15,
     "metadata": {},
     "output_type": "execute_result"
    }
   ],
   "source": [
    "rishi.vehicle_ids"
   ]
  },
  {
   "cell_type": "code",
   "execution_count": 16,
   "metadata": {},
   "outputs": [],
   "source": [
    "rishi.add_vehicle(bmw)"
   ]
  },
  {
   "cell_type": "code",
   "execution_count": 17,
   "metadata": {},
   "outputs": [
    {
     "data": {
      "text/plain": [
       "[Vehicle(id='VEHICLE~WBAVS13538FV95140', revision_id=None, VIN='WBAVS13538FV95140', make='BMW', model='328i', year=2008, color='NOT_SET', owner_id=None, purchase_date=None, purchase_price=None, odometer_records=[OdometerReading(id='ODOMETER~8ff5d1e4dfea9cfda6a6df378da478b2', revision_id=None, VIN='WBAVS13538FV95140', date=DateTime(2024, 12, 24, 0, 0, 0, tzinfo=Timezone('America/Los_Angeles')), reading=10000.0, location=None)], service_records=[Service(id='SERVICE~8ff5d1e4dfea9cfda6a6df378da478b2', revision_id=None, VIN='WBAVS13538FV95140', date=DateTime(2024, 12, 24, 0, 0, 0, tzinfo=Timezone('America/Los_Angeles')), vendor_id='VENDOR~72925b4ad47554c982f23960109b6aea', cost=1340.43, items=[ServiceItem(id='SERVICE_ITEM~ca93b0909f55b32ba692f6ce844220f1', revision_id=None, service_type=<ServiceType.MAINTENANCE: 'MAINTENANCE'>, description='New tires', cost=1340.43, documentation=[])])], fuel_records=[Fuel(id='FUEL~8ff5d1e4dfea9cfda6a6df378da478b2', revision_id=None, VIN='WBAVS13538FV95140', date=DateTime(2024, 12, 24, 0, 0, 0, tzinfo=Timezone('America/Los_Angeles')), vendor_id='VENDOR~72925b4ad47554c982f23960109b6aea', fuel_type=<FuelType.PREMIUM: 'Premium'>, units=8.45, price_per_unit=4.54, cost=38.363)], expenses=[], documentation=[])]"
      ]
     },
     "execution_count": 17,
     "metadata": {},
     "output_type": "execute_result"
    }
   ],
   "source": [
    "rishi.vehicle_ids\n"
   ]
  },
  {
   "cell_type": "code",
   "execution_count": 18,
   "metadata": {},
   "outputs": [
    {
     "data": {
      "text/plain": [
       "Vendor(id='VENDOR~72925b4ad47554c982f23960109b6aea', revision_id=None, name='Costco', website=None, email=None, phone_number=None, location=Location(address='123 Main St, Anytown, USA', city='Anytown', state='CA', zip_code='12345', latitude=None, longitude=None))"
      ]
     },
     "execution_count": 18,
     "metadata": {},
     "output_type": "execute_result"
    }
   ],
   "source": [
    "await bmw.insert()\n",
    "await rishi.insert()\n",
    "await Costco.insert()"
   ]
  },
  {
   "cell_type": "code",
   "execution_count": null,
   "metadata": {},
   "outputs": [],
   "source": []
  }
 ],
 "metadata": {
  "kernelspec": {
   "display_name": "Python 3",
   "language": "python",
   "name": "python3"
  },
  "language_info": {
   "codemirror_mode": {
    "name": "ipython",
    "version": 3
   },
   "file_extension": ".py",
   "mimetype": "text/x-python",
   "name": "python",
   "nbconvert_exporter": "python",
   "pygments_lexer": "ipython3",
   "version": "3.11.11"
  }
 },
 "nbformat": 4,
 "nbformat_minor": 2
}
